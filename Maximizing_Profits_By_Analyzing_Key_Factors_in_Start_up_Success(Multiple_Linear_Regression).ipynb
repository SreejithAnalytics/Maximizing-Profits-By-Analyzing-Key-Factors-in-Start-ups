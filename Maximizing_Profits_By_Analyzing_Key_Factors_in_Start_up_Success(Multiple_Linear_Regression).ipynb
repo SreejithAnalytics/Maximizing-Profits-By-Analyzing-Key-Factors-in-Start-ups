{
  "cells": [
    {
      "cell_type": "markdown",
      "id": "aa47ea55",
      "metadata": {
        "id": "aa47ea55"
      },
      "source": [
        "# \"Maximizing Profits By Analyzing Key Performance Factors in Start-Ups\""
      ]
    },
    {
      "cell_type": "markdown",
      "id": "04669f0c",
      "metadata": {
        "id": "04669f0c"
      },
      "source": [
        "## Problem Description\n",
        "We have a dataset of 50 start-up companies. This dataset contains five main information: R&D Spend,AdministrationSpend,Marketing\n",
        "Spend, State, and Profit for a financial year. Our goal is to create a\n",
        "model that can easily determine which company has a maximum profit, and which is the most affecting factor for the profit of a company.\n",
        "Since we need to find the Profit, so it is the dependent variable, and the other four variables are independent variables. Below are the main steps of deploying the MLR model:\n",
        "1. Data Pre-processing Steps.\n",
        "2. Fitting the MLR model to the training set.\n",
        "3. Predicting the result of test set.\n",
        "4. Evaluate the Algorithm."
      ]
    },
    {
      "cell_type": "code",
      "source": [
        "from google.colab import files\n",
        "from IPython.display import Image"
      ],
      "metadata": {
        "id": "uPP9ks2ULzgh"
      },
      "id": "uPP9ks2ULzgh",
      "execution_count": null,
      "outputs": []
    },
    {
      "cell_type": "code",
      "source": [
        "uploaded = files.upload()"
      ],
      "metadata": {
        "colab": {
          "base_uri": "https://localhost:8080/",
          "height": 73
        },
        "id": "0-Bg6682MJsE",
        "outputId": "f159a2fc-a4eb-4c9c-e6c8-cf98d00926d3"
      },
      "id": "0-Bg6682MJsE",
      "execution_count": null,
      "outputs": [
        {
          "output_type": "display_data",
          "data": {
            "text/plain": [
              "<IPython.core.display.HTML object>"
            ],
            "text/html": [
              "\n",
              "     <input type=\"file\" id=\"files-a7906a8a-bee9-44b4-b8d0-a9fb8f6a0c01\" name=\"files[]\" multiple disabled\n",
              "        style=\"border:none\" />\n",
              "     <output id=\"result-a7906a8a-bee9-44b4-b8d0-a9fb8f6a0c01\">\n",
              "      Upload widget is only available when the cell has been executed in the\n",
              "      current browser session. Please rerun this cell to enable.\n",
              "      </output>\n",
              "      <script>// Copyright 2017 Google LLC\n",
              "//\n",
              "// Licensed under the Apache License, Version 2.0 (the \"License\");\n",
              "// you may not use this file except in compliance with the License.\n",
              "// You may obtain a copy of the License at\n",
              "//\n",
              "//      http://www.apache.org/licenses/LICENSE-2.0\n",
              "//\n",
              "// Unless required by applicable law or agreed to in writing, software\n",
              "// distributed under the License is distributed on an \"AS IS\" BASIS,\n",
              "// WITHOUT WARRANTIES OR CONDITIONS OF ANY KIND, either express or implied.\n",
              "// See the License for the specific language governing permissions and\n",
              "// limitations under the License.\n",
              "\n",
              "/**\n",
              " * @fileoverview Helpers for google.colab Python module.\n",
              " */\n",
              "(function(scope) {\n",
              "function span(text, styleAttributes = {}) {\n",
              "  const element = document.createElement('span');\n",
              "  element.textContent = text;\n",
              "  for (const key of Object.keys(styleAttributes)) {\n",
              "    element.style[key] = styleAttributes[key];\n",
              "  }\n",
              "  return element;\n",
              "}\n",
              "\n",
              "// Max number of bytes which will be uploaded at a time.\n",
              "const MAX_PAYLOAD_SIZE = 100 * 1024;\n",
              "\n",
              "function _uploadFiles(inputId, outputId) {\n",
              "  const steps = uploadFilesStep(inputId, outputId);\n",
              "  const outputElement = document.getElementById(outputId);\n",
              "  // Cache steps on the outputElement to make it available for the next call\n",
              "  // to uploadFilesContinue from Python.\n",
              "  outputElement.steps = steps;\n",
              "\n",
              "  return _uploadFilesContinue(outputId);\n",
              "}\n",
              "\n",
              "// This is roughly an async generator (not supported in the browser yet),\n",
              "// where there are multiple asynchronous steps and the Python side is going\n",
              "// to poll for completion of each step.\n",
              "// This uses a Promise to block the python side on completion of each step,\n",
              "// then passes the result of the previous step as the input to the next step.\n",
              "function _uploadFilesContinue(outputId) {\n",
              "  const outputElement = document.getElementById(outputId);\n",
              "  const steps = outputElement.steps;\n",
              "\n",
              "  const next = steps.next(outputElement.lastPromiseValue);\n",
              "  return Promise.resolve(next.value.promise).then((value) => {\n",
              "    // Cache the last promise value to make it available to the next\n",
              "    // step of the generator.\n",
              "    outputElement.lastPromiseValue = value;\n",
              "    return next.value.response;\n",
              "  });\n",
              "}\n",
              "\n",
              "/**\n",
              " * Generator function which is called between each async step of the upload\n",
              " * process.\n",
              " * @param {string} inputId Element ID of the input file picker element.\n",
              " * @param {string} outputId Element ID of the output display.\n",
              " * @return {!Iterable<!Object>} Iterable of next steps.\n",
              " */\n",
              "function* uploadFilesStep(inputId, outputId) {\n",
              "  const inputElement = document.getElementById(inputId);\n",
              "  inputElement.disabled = false;\n",
              "\n",
              "  const outputElement = document.getElementById(outputId);\n",
              "  outputElement.innerHTML = '';\n",
              "\n",
              "  const pickedPromise = new Promise((resolve) => {\n",
              "    inputElement.addEventListener('change', (e) => {\n",
              "      resolve(e.target.files);\n",
              "    });\n",
              "  });\n",
              "\n",
              "  const cancel = document.createElement('button');\n",
              "  inputElement.parentElement.appendChild(cancel);\n",
              "  cancel.textContent = 'Cancel upload';\n",
              "  const cancelPromise = new Promise((resolve) => {\n",
              "    cancel.onclick = () => {\n",
              "      resolve(null);\n",
              "    };\n",
              "  });\n",
              "\n",
              "  // Wait for the user to pick the files.\n",
              "  const files = yield {\n",
              "    promise: Promise.race([pickedPromise, cancelPromise]),\n",
              "    response: {\n",
              "      action: 'starting',\n",
              "    }\n",
              "  };\n",
              "\n",
              "  cancel.remove();\n",
              "\n",
              "  // Disable the input element since further picks are not allowed.\n",
              "  inputElement.disabled = true;\n",
              "\n",
              "  if (!files) {\n",
              "    return {\n",
              "      response: {\n",
              "        action: 'complete',\n",
              "      }\n",
              "    };\n",
              "  }\n",
              "\n",
              "  for (const file of files) {\n",
              "    const li = document.createElement('li');\n",
              "    li.append(span(file.name, {fontWeight: 'bold'}));\n",
              "    li.append(span(\n",
              "        `(${file.type || 'n/a'}) - ${file.size} bytes, ` +\n",
              "        `last modified: ${\n",
              "            file.lastModifiedDate ? file.lastModifiedDate.toLocaleDateString() :\n",
              "                                    'n/a'} - `));\n",
              "    const percent = span('0% done');\n",
              "    li.appendChild(percent);\n",
              "\n",
              "    outputElement.appendChild(li);\n",
              "\n",
              "    const fileDataPromise = new Promise((resolve) => {\n",
              "      const reader = new FileReader();\n",
              "      reader.onload = (e) => {\n",
              "        resolve(e.target.result);\n",
              "      };\n",
              "      reader.readAsArrayBuffer(file);\n",
              "    });\n",
              "    // Wait for the data to be ready.\n",
              "    let fileData = yield {\n",
              "      promise: fileDataPromise,\n",
              "      response: {\n",
              "        action: 'continue',\n",
              "      }\n",
              "    };\n",
              "\n",
              "    // Use a chunked sending to avoid message size limits. See b/62115660.\n",
              "    let position = 0;\n",
              "    do {\n",
              "      const length = Math.min(fileData.byteLength - position, MAX_PAYLOAD_SIZE);\n",
              "      const chunk = new Uint8Array(fileData, position, length);\n",
              "      position += length;\n",
              "\n",
              "      const base64 = btoa(String.fromCharCode.apply(null, chunk));\n",
              "      yield {\n",
              "        response: {\n",
              "          action: 'append',\n",
              "          file: file.name,\n",
              "          data: base64,\n",
              "        },\n",
              "      };\n",
              "\n",
              "      let percentDone = fileData.byteLength === 0 ?\n",
              "          100 :\n",
              "          Math.round((position / fileData.byteLength) * 100);\n",
              "      percent.textContent = `${percentDone}% done`;\n",
              "\n",
              "    } while (position < fileData.byteLength);\n",
              "  }\n",
              "\n",
              "  // All done.\n",
              "  yield {\n",
              "    response: {\n",
              "      action: 'complete',\n",
              "    }\n",
              "  };\n",
              "}\n",
              "\n",
              "scope.google = scope.google || {};\n",
              "scope.google.colab = scope.google.colab || {};\n",
              "scope.google.colab._files = {\n",
              "  _uploadFiles,\n",
              "  _uploadFilesContinue,\n",
              "};\n",
              "})(self);\n",
              "</script> "
            ]
          },
          "metadata": {}
        },
        {
          "output_type": "stream",
          "name": "stdout",
          "text": [
            "Saving LinkedIn Banner.jpg to LinkedIn Banner (1).jpg\n"
          ]
        }
      ]
    },
    {
      "cell_type": "code",
      "source": [
        "Image('LinkedIn Banner.jpg')"
      ],
      "metadata": {
        "colab": {
          "base_uri": "https://localhost:8080/",
          "height": 326
        },
        "id": "ngfymStZMYnd",
        "outputId": "53c70930-d04e-4102-8f32-5f20c0531c6d"
      },
      "id": "ngfymStZMYnd",
      "execution_count": null,
      "outputs": [
        {
          "output_type": "execute_result",
          "data": {
            "image/jpeg": "[encoded data removed]",
            "text/plain": [
              "<IPython.core.display.Image object>"
            ]
          },
          "metadata": {},
          "execution_count": 5
        }
      ]
    },
    {
      "cell_type": "markdown",
      "id": "2303af1f",
      "metadata": {
        "id": "2303af1f"
      },
      "source": [
        "## 1.Data Pre-processing Steps"
      ]
    },
    {
      "cell_type": "markdown",
      "id": "a9536345",
      "metadata": {
        "id": "a9536345"
      },
      "source": [
        "### 1.a) Importing Libraries"
      ]
    },
    {
      "cell_type": "code",
      "execution_count": null,
      "id": "1565ff63",
      "metadata": {
        "id": "1565ff63"
      },
      "outputs": [],
      "source": [
        "# Importing libraries\n",
        "import numpy as np\n",
        "import pandas as pd\n",
        "import matplotlib.pyplot as plt"
      ]
    },
    {
      "cell_type": "markdown",
      "id": "d56c902e",
      "metadata": {
        "id": "d56c902e"
      },
      "source": [
        "### 1.b) Importing Dataset"
      ]
    },
    {
      "cell_type": "code",
      "execution_count": null,
      "id": "2bdc8b41",
      "metadata": {
        "id": "2bdc8b41"
      },
      "outputs": [],
      "source": [
        "# Importing Dataset\n",
        "data_set = pd.read_csv(\"50_CompList.csv\")"
      ]
    },
    {
      "cell_type": "code",
      "execution_count": null,
      "id": "b0e73995",
      "metadata": {
        "id": "b0e73995",
        "outputId": "9bebdc09-d6c6-4b47-b73f-dcaf34740f34"
      },
      "outputs": [
        {
          "data": {
            "text/html": [
              "<div>\n",
              "<style scoped>\n",
              "    .dataframe tbody tr th:only-of-type {\n",
              "        vertical-align: middle;\n",
              "    }\n",
              "\n",
              "    .dataframe tbody tr th {\n",
              "        vertical-align: top;\n",
              "    }\n",
              "\n",
              "    .dataframe thead th {\n",
              "        text-align: right;\n",
              "    }\n",
              "</style>\n",
              "<table border=\"1\" class=\"dataframe\">\n",
              "  <thead>\n",
              "    <tr style=\"text-align: right;\">\n",
              "      <th></th>\n",
              "      <th>R&amp;D Spend</th>\n",
              "      <th>Administration</th>\n",
              "      <th>Marketing Spend</th>\n",
              "      <th>State</th>\n",
              "      <th>Profit</th>\n",
              "    </tr>\n",
              "  </thead>\n",
              "  <tbody>\n",
              "    <tr>\n",
              "      <th>0</th>\n",
              "      <td>165349.20</td>\n",
              "      <td>136897.80</td>\n",
              "      <td>471784.10</td>\n",
              "      <td>New York</td>\n",
              "      <td>192261.83</td>\n",
              "    </tr>\n",
              "    <tr>\n",
              "      <th>1</th>\n",
              "      <td>162597.70</td>\n",
              "      <td>151377.59</td>\n",
              "      <td>443898.53</td>\n",
              "      <td>California</td>\n",
              "      <td>191792.06</td>\n",
              "    </tr>\n",
              "    <tr>\n",
              "      <th>2</th>\n",
              "      <td>153441.51</td>\n",
              "      <td>101145.55</td>\n",
              "      <td>407934.54</td>\n",
              "      <td>Florida</td>\n",
              "      <td>191050.39</td>\n",
              "    </tr>\n",
              "    <tr>\n",
              "      <th>3</th>\n",
              "      <td>144372.41</td>\n",
              "      <td>118671.85</td>\n",
              "      <td>383199.62</td>\n",
              "      <td>New York</td>\n",
              "      <td>182901.99</td>\n",
              "    </tr>\n",
              "    <tr>\n",
              "      <th>4</th>\n",
              "      <td>142107.34</td>\n",
              "      <td>91391.77</td>\n",
              "      <td>366168.42</td>\n",
              "      <td>Florida</td>\n",
              "      <td>166187.94</td>\n",
              "    </tr>\n",
              "    <tr>\n",
              "      <th>5</th>\n",
              "      <td>131876.90</td>\n",
              "      <td>99814.71</td>\n",
              "      <td>362861.36</td>\n",
              "      <td>New York</td>\n",
              "      <td>156991.12</td>\n",
              "    </tr>\n",
              "  </tbody>\n",
              "</table>\n",
              "</div>"
            ],
            "text/plain": [
              "   R&D Spend  Administration  Marketing Spend       State     Profit\n",
              "0  165349.20       136897.80        471784.10    New York  192261.83\n",
              "1  162597.70       151377.59        443898.53  California  191792.06\n",
              "2  153441.51       101145.55        407934.54     Florida  191050.39\n",
              "3  144372.41       118671.85        383199.62    New York  182901.99\n",
              "4  142107.34        91391.77        366168.42     Florida  166187.94\n",
              "5  131876.90        99814.71        362861.36    New York  156991.12"
            ]
          },
          "execution_count": 5,
          "metadata": {},
          "output_type": "execute_result"
        }
      ],
      "source": [
        "data_set.to_string()\n",
        "data_set.head(6)"
      ]
    },
    {
      "cell_type": "markdown",
      "id": "191cbc4e",
      "metadata": {
        "id": "191cbc4e"
      },
      "source": [
        "### 1.c) Extracting Dependent and Independent Variable"
      ]
    },
    {
      "cell_type": "code",
      "execution_count": null,
      "id": "68d14d1c",
      "metadata": {
        "id": "68d14d1c"
      },
      "outputs": [],
      "source": [
        "#Extracting Independent and dependent Variable\n",
        "X = data_set.iloc[:,0:4].values\n",
        "y = data_set.iloc[:,4].values"
      ]
    },
    {
      "cell_type": "code",
      "execution_count": null,
      "id": "3f9ff87e",
      "metadata": {
        "id": "3f9ff87e",
        "outputId": "42a7f8e8-ea5b-46b6-b32f-d64ed85989b1"
      },
      "outputs": [
        {
          "name": "stdout",
          "output_type": "stream",
          "text": [
            "[[165349.2 136897.8 471784.1 'New York']\n",
            " [162597.7 151377.59 443898.53 'California']\n",
            " [153441.51 101145.55 407934.54 'Florida']\n",
            " [144372.41 118671.85 383199.62 'New York']\n",
            " [142107.34 91391.77 366168.42 'Florida']\n",
            " [131876.9 99814.71 362861.36 'New York']\n",
            " [134615.46 147198.87 127716.82 'California']\n",
            " [130298.13 145530.06 323876.68 'Florida']\n",
            " [120542.52 148718.95 311613.29 'New York']\n",
            " [123334.88 108679.17 304981.62 'California']]\n"
          ]
        }
      ],
      "source": [
        "print(X[:10])"
      ]
    },
    {
      "cell_type": "markdown",
      "id": "afd0d58d",
      "metadata": {
        "id": "afd0d58d"
      },
      "source": [
        "- As we can see in the above output, the last column contains categoricalvariables which are not suitable to apply directly for fitting the model. So we need to encode this."
      ]
    },
    {
      "cell_type": "markdown",
      "id": "165fca73",
      "metadata": {
        "id": "165fca73"
      },
      "source": [
        "### 1.d) Encoding Categorical Data"
      ]
    },
    {
      "cell_type": "code",
      "execution_count": null,
      "id": "5be1f17c",
      "metadata": {
        "id": "5be1f17c",
        "outputId": "b99f8882-72aa-4ba0-cc18-fc4275feac57"
      },
      "outputs": [
        {
          "name": "stdout",
          "output_type": "stream",
          "text": [
            "--------------------------------------------\n",
            "            0          1          2  3\n",
            "0    165349.2   136897.8   471784.1  2\n",
            "1    162597.7  151377.59  443898.53  0\n",
            "2   153441.51  101145.55  407934.54  1\n",
            "3   144372.41  118671.85  383199.62  2\n",
            "4   142107.34   91391.77  366168.42  1\n",
            "5    131876.9   99814.71  362861.36  2\n",
            "6   134615.46  147198.87  127716.82  0\n",
            "7   130298.13  145530.06  323876.68  1\n",
            "8   120542.52  148718.95  311613.29  2\n",
            "9   123334.88  108679.17  304981.62  0\n",
            "10  101913.08  110594.11  229160.95  1\n",
            "11  100671.96   91790.61  249744.55  0\n",
            "12   93863.75  127320.38  249839.44  1\n",
            "13   91992.39  135495.07  252664.93  0\n",
            "14  119943.24  156547.42  256512.92  1\n",
            "15  114523.61  122616.84  261776.23  2\n",
            "16   78013.11  121597.55  264346.06  0\n",
            "17   94657.16  145077.58  282574.31  2\n",
            "18   91749.16  114175.79  294919.57  1\n",
            "19    86419.7  153514.11        0.0  2\n",
            "20   76253.86   113867.3  298664.47  0\n",
            "21   78389.47  153773.43  299737.29  2\n",
            "22   73994.56  122782.75  303319.26  1\n",
            "23   67532.53  105751.03  304768.73  1\n",
            "24   77044.01   99281.34  140574.81  2\n",
            "25   64664.71  139553.16  137962.62  0\n",
            "26   75328.87  144135.98  134050.07  1\n",
            "27    72107.6  127864.55  353183.81  2\n",
            "28   66051.52  182645.56   118148.2  1\n",
            "29   65605.48  153032.06  107138.38  2\n",
            "30   61994.48  115641.28   91131.24  1\n",
            "31   61136.38  152701.92   88218.23  2\n",
            "32   63408.86  129219.61   46085.25  0\n",
            "33   55493.95  103057.49  214634.81  1\n",
            "34   46426.07  157693.92  210797.67  0\n",
            "35   46014.02   85047.44  205517.64  2\n",
            "36   28663.76  127056.21  201126.82  1\n",
            "37   44069.95   51283.14  197029.42  0\n",
            "38   20229.59   65947.93   185265.1  2\n",
            "39   38558.51   82982.09   174999.3  0\n",
            "40   28754.33  118546.05  172795.67  0\n",
            "41   27892.92   84710.77  164470.71  1\n",
            "42   23640.93   96189.63  148001.11  0\n",
            "43   15505.73   127382.3   35534.17  2\n",
            "44   22177.74  154806.14   28334.72  0\n",
            "45    1000.23  124153.04    1903.93  2\n",
            "46    1315.46  115816.21  297114.46  1\n",
            "47        0.0  135426.92        0.0  0\n",
            "48     542.05   51743.15        0.0  2\n",
            "49        0.0   116983.8   45173.06  0\n",
            "--------------------------------------------\n"
          ]
        }
      ],
      "source": [
        "# Categorical data\n",
        "from sklearn.preprocessing import OneHotEncoder, LabelEncoder\n",
        "from sklearn.compose import ColumnTransformer\n",
        "labelencoder_x = LabelEncoder()\n",
        "X[:,3] = labelencoder_x.fit_transform(X[:,3])\n",
        "dt = pd.DataFrame(X)\n",
        "print(\"--------------------------------------------\")\n",
        "print(dt.to_string())\n",
        "print(\"--------------------------------------------\")"
      ]
    },
    {
      "cell_type": "code",
      "execution_count": null,
      "id": "efa2477b",
      "metadata": {
        "id": "efa2477b"
      },
      "outputs": [],
      "source": [
        "# Column Transform\n",
        "ct = ColumnTransformer([(\"State\", OneHotEncoder(),[3])], remainder = 'passthrough')"
      ]
    },
    {
      "cell_type": "code",
      "execution_count": null,
      "id": "966e9afb",
      "metadata": {
        "id": "966e9afb"
      },
      "outputs": [],
      "source": [
        "X = ct.fit_transform(X)"
      ]
    },
    {
      "cell_type": "code",
      "execution_count": null,
      "id": "0e494ba1",
      "metadata": {
        "id": "0e494ba1",
        "outputId": "2039200c-1e58-424d-98c1-d3316b3b2e20"
      },
      "outputs": [
        {
          "name": "stdout",
          "output_type": "stream",
          "text": [
            "Before Removing the Dummy Variable Trap\n",
            "------------------------------------------------------\n",
            "      0    1    2          3          4          5\n",
            "0   0.0  0.0  1.0   165349.2   136897.8   471784.1\n",
            "1   1.0  0.0  0.0   162597.7  151377.59  443898.53\n",
            "2   0.0  1.0  0.0  153441.51  101145.55  407934.54\n",
            "3   0.0  0.0  1.0  144372.41  118671.85  383199.62\n",
            "4   0.0  1.0  0.0  142107.34   91391.77  366168.42\n",
            "5   0.0  0.0  1.0   131876.9   99814.71  362861.36\n",
            "6   1.0  0.0  0.0  134615.46  147198.87  127716.82\n",
            "7   0.0  1.0  0.0  130298.13  145530.06  323876.68\n",
            "8   0.0  0.0  1.0  120542.52  148718.95  311613.29\n",
            "9   1.0  0.0  0.0  123334.88  108679.17  304981.62\n",
            "10  0.0  1.0  0.0  101913.08  110594.11  229160.95\n",
            "11  1.0  0.0  0.0  100671.96   91790.61  249744.55\n",
            "12  0.0  1.0  0.0   93863.75  127320.38  249839.44\n",
            "13  1.0  0.0  0.0   91992.39  135495.07  252664.93\n",
            "14  0.0  1.0  0.0  119943.24  156547.42  256512.92\n",
            "15  0.0  0.0  1.0  114523.61  122616.84  261776.23\n",
            "16  1.0  0.0  0.0   78013.11  121597.55  264346.06\n",
            "17  0.0  0.0  1.0   94657.16  145077.58  282574.31\n",
            "18  0.0  1.0  0.0   91749.16  114175.79  294919.57\n",
            "19  0.0  0.0  1.0    86419.7  153514.11        0.0\n",
            "20  1.0  0.0  0.0   76253.86   113867.3  298664.47\n",
            "21  0.0  0.0  1.0   78389.47  153773.43  299737.29\n",
            "22  0.0  1.0  0.0   73994.56  122782.75  303319.26\n",
            "23  0.0  1.0  0.0   67532.53  105751.03  304768.73\n",
            "24  0.0  0.0  1.0   77044.01   99281.34  140574.81\n",
            "25  1.0  0.0  0.0   64664.71  139553.16  137962.62\n",
            "26  0.0  1.0  0.0   75328.87  144135.98  134050.07\n",
            "27  0.0  0.0  1.0    72107.6  127864.55  353183.81\n",
            "28  0.0  1.0  0.0   66051.52  182645.56   118148.2\n",
            "29  0.0  0.0  1.0   65605.48  153032.06  107138.38\n",
            "30  0.0  1.0  0.0   61994.48  115641.28   91131.24\n",
            "31  0.0  0.0  1.0   61136.38  152701.92   88218.23\n",
            "32  1.0  0.0  0.0   63408.86  129219.61   46085.25\n",
            "33  0.0  1.0  0.0   55493.95  103057.49  214634.81\n",
            "34  1.0  0.0  0.0   46426.07  157693.92  210797.67\n",
            "35  0.0  0.0  1.0   46014.02   85047.44  205517.64\n",
            "36  0.0  1.0  0.0   28663.76  127056.21  201126.82\n",
            "37  1.0  0.0  0.0   44069.95   51283.14  197029.42\n",
            "38  0.0  0.0  1.0   20229.59   65947.93   185265.1\n",
            "39  1.0  0.0  0.0   38558.51   82982.09   174999.3\n",
            "40  1.0  0.0  0.0   28754.33  118546.05  172795.67\n",
            "41  0.0  1.0  0.0   27892.92   84710.77  164470.71\n",
            "42  1.0  0.0  0.0   23640.93   96189.63  148001.11\n",
            "43  0.0  0.0  1.0   15505.73   127382.3   35534.17\n",
            "44  1.0  0.0  0.0   22177.74  154806.14   28334.72\n",
            "45  0.0  0.0  1.0    1000.23  124153.04    1903.93\n",
            "46  0.0  1.0  0.0    1315.46  115816.21  297114.46\n",
            "47  1.0  0.0  0.0        0.0  135426.92        0.0\n",
            "48  0.0  0.0  1.0     542.05   51743.15        0.0\n",
            "49  1.0  0.0  0.0        0.0   116983.8   45173.06\n",
            "------------------------------------------------------\n"
          ]
        }
      ],
      "source": [
        "dt1 = pd.DataFrame(X)\n",
        "print(\"Before Removing the Dummy Variable Trap\")\n",
        "print(\"------------------------------------------------------\")\n",
        "print(dt1.to_string())\n",
        "print(\"------------------------------------------------------\")"
      ]
    },
    {
      "cell_type": "code",
      "execution_count": null,
      "id": "1d012d3d",
      "metadata": {
        "id": "1d012d3d",
        "outputId": "04df6bd3-8501-4b15-b8ed-a6d79f80feac"
      },
      "outputs": [
        {
          "name": "stdout",
          "output_type": "stream",
          "text": [
            "After Removing the Dummy Variable Trap\n",
            "--------------------------------------------------\n",
            "Updated X=\n",
            "      0    1          2          3          4\n",
            "0   0.0  1.0   165349.2   136897.8   471784.1\n",
            "1   0.0  0.0   162597.7  151377.59  443898.53\n",
            "2   1.0  0.0  153441.51  101145.55  407934.54\n",
            "3   0.0  1.0  144372.41  118671.85  383199.62\n",
            "4   1.0  0.0  142107.34   91391.77  366168.42\n",
            "5   0.0  1.0   131876.9   99814.71  362861.36\n",
            "6   0.0  0.0  134615.46  147198.87  127716.82\n",
            "7   1.0  0.0  130298.13  145530.06  323876.68\n",
            "8   0.0  1.0  120542.52  148718.95  311613.29\n",
            "9   0.0  0.0  123334.88  108679.17  304981.62\n",
            "10  1.0  0.0  101913.08  110594.11  229160.95\n",
            "11  0.0  0.0  100671.96   91790.61  249744.55\n",
            "12  1.0  0.0   93863.75  127320.38  249839.44\n",
            "13  0.0  0.0   91992.39  135495.07  252664.93\n",
            "14  1.0  0.0  119943.24  156547.42  256512.92\n",
            "15  0.0  1.0  114523.61  122616.84  261776.23\n",
            "16  0.0  0.0   78013.11  121597.55  264346.06\n",
            "17  0.0  1.0   94657.16  145077.58  282574.31\n",
            "18  1.0  0.0   91749.16  114175.79  294919.57\n",
            "19  0.0  1.0    86419.7  153514.11        0.0\n",
            "20  0.0  0.0   76253.86   113867.3  298664.47\n",
            "21  0.0  1.0   78389.47  153773.43  299737.29\n",
            "22  1.0  0.0   73994.56  122782.75  303319.26\n",
            "23  1.0  0.0   67532.53  105751.03  304768.73\n",
            "24  0.0  1.0   77044.01   99281.34  140574.81\n",
            "25  0.0  0.0   64664.71  139553.16  137962.62\n",
            "26  1.0  0.0   75328.87  144135.98  134050.07\n",
            "27  0.0  1.0    72107.6  127864.55  353183.81\n",
            "28  1.0  0.0   66051.52  182645.56   118148.2\n",
            "29  0.0  1.0   65605.48  153032.06  107138.38\n",
            "30  1.0  0.0   61994.48  115641.28   91131.24\n",
            "31  0.0  1.0   61136.38  152701.92   88218.23\n",
            "32  0.0  0.0   63408.86  129219.61   46085.25\n",
            "33  1.0  0.0   55493.95  103057.49  214634.81\n",
            "34  0.0  0.0   46426.07  157693.92  210797.67\n",
            "35  0.0  1.0   46014.02   85047.44  205517.64\n",
            "36  1.0  0.0   28663.76  127056.21  201126.82\n",
            "37  0.0  0.0   44069.95   51283.14  197029.42\n",
            "38  0.0  1.0   20229.59   65947.93   185265.1\n",
            "39  0.0  0.0   38558.51   82982.09   174999.3\n",
            "40  0.0  0.0   28754.33  118546.05  172795.67\n",
            "41  1.0  0.0   27892.92   84710.77  164470.71\n",
            "42  0.0  0.0   23640.93   96189.63  148001.11\n",
            "43  0.0  1.0   15505.73   127382.3   35534.17\n",
            "44  0.0  0.0   22177.74  154806.14   28334.72\n",
            "45  0.0  1.0    1000.23  124153.04    1903.93\n",
            "46  1.0  0.0    1315.46  115816.21  297114.46\n",
            "47  0.0  0.0        0.0  135426.92        0.0\n",
            "48  0.0  1.0     542.05   51743.15        0.0\n",
            "49  0.0  0.0        0.0   116983.8   45173.06\n"
          ]
        }
      ],
      "source": [
        "# Avoiding dummy variable trap\n",
        "print(\"After Removing the Dummy Variable Trap\")\n",
        "print(\"--------------------------------------------------\")\n",
        "X = X[:, 1:]\n",
        "dt2 = pd.DataFrame(X)\n",
        "print(\"Updated X=\")\n",
        "print(dt2.to_string())"
      ]
    },
    {
      "cell_type": "markdown",
      "id": "a5d3d4d4",
      "metadata": {
        "id": "a5d3d4d4"
      },
      "source": [
        "### 1.e) Splitting the dataset into training and test set"
      ]
    },
    {
      "cell_type": "code",
      "execution_count": null,
      "id": "f614e0ae",
      "metadata": {
        "id": "f614e0ae"
      },
      "outputs": [],
      "source": [
        "# Splitting the dataset into training set and test set\n",
        "from sklearn.model_selection import train_test_split\n",
        "X_train, X_test, y_train, y_test = train_test_split(X,y, test_size = 0.2, random_state = 42)"
      ]
    },
    {
      "cell_type": "markdown",
      "id": "faad9e8c",
      "metadata": {
        "id": "faad9e8c"
      },
      "source": [
        "## 2. Fitting the MLR model to the training set"
      ]
    },
    {
      "cell_type": "code",
      "execution_count": null,
      "id": "bc348470",
      "metadata": {
        "id": "bc348470",
        "outputId": "cc1eedfa-2d26-4e2c-accf-6fa209e2d69d"
      },
      "outputs": [
        {
          "data": {
            "text/html": [
              "<style>#sk-container-id-1 {color: black;}#sk-container-id-1 pre{padding: 0;}#sk-container-id-1 div.sk-toggleable {background-color: white;}#sk-container-id-1 label.sk-toggleable__label {cursor: pointer;display: block;width: 100%;margin-bottom: 0;padding: 0.3em;box-sizing: border-box;text-align: center;}#sk-container-id-1 label.sk-toggleable__label-arrow:before {content: \"▸\";float: left;margin-right: 0.25em;color: #696969;}#sk-container-id-1 label.sk-toggleable__label-arrow:hover:before {color: black;}#sk-container-id-1 div.sk-estimator:hover label.sk-toggleable__label-arrow:before {color: black;}#sk-container-id-1 div.sk-toggleable__content {max-height: 0;max-width: 0;overflow: hidden;text-align: left;background-color: #f0f8ff;}#sk-container-id-1 div.sk-toggleable__content pre {margin: 0.2em;color: black;border-radius: 0.25em;background-color: #f0f8ff;}#sk-container-id-1 input.sk-toggleable__control:checked~div.sk-toggleable__content {max-height: 200px;max-width: 100%;overflow: auto;}#sk-container-id-1 input.sk-toggleable__control:checked~label.sk-toggleable__label-arrow:before {content: \"▾\";}#sk-container-id-1 div.sk-estimator input.sk-toggleable__control:checked~label.sk-toggleable__label {background-color: #d4ebff;}#sk-container-id-1 div.sk-label input.sk-toggleable__control:checked~label.sk-toggleable__label {background-color: #d4ebff;}#sk-container-id-1 input.sk-hidden--visually {border: 0;clip: rect(1px 1px 1px 1px);clip: rect(1px, 1px, 1px, 1px);height: 1px;margin: -1px;overflow: hidden;padding: 0;position: absolute;width: 1px;}#sk-container-id-1 div.sk-estimator {font-family: monospace;background-color: #f0f8ff;border: 1px dotted black;border-radius: 0.25em;box-sizing: border-box;margin-bottom: 0.5em;}#sk-container-id-1 div.sk-estimator:hover {background-color: #d4ebff;}#sk-container-id-1 div.sk-parallel-item::after {content: \"\";width: 100%;border-bottom: 1px solid gray;flex-grow: 1;}#sk-container-id-1 div.sk-label:hover label.sk-toggleable__label {background-color: #d4ebff;}#sk-container-id-1 div.sk-serial::before {content: \"\";position: absolute;border-left: 1px solid gray;box-sizing: border-box;top: 0;bottom: 0;left: 50%;z-index: 0;}#sk-container-id-1 div.sk-serial {display: flex;flex-direction: column;align-items: center;background-color: white;padding-right: 0.2em;padding-left: 0.2em;position: relative;}#sk-container-id-1 div.sk-item {position: relative;z-index: 1;}#sk-container-id-1 div.sk-parallel {display: flex;align-items: stretch;justify-content: center;background-color: white;position: relative;}#sk-container-id-1 div.sk-item::before, #sk-container-id-1 div.sk-parallel-item::before {content: \"\";position: absolute;border-left: 1px solid gray;box-sizing: border-box;top: 0;bottom: 0;left: 50%;z-index: -1;}#sk-container-id-1 div.sk-parallel-item {display: flex;flex-direction: column;z-index: 1;position: relative;background-color: white;}#sk-container-id-1 div.sk-parallel-item:first-child::after {align-self: flex-end;width: 50%;}#sk-container-id-1 div.sk-parallel-item:last-child::after {align-self: flex-start;width: 50%;}#sk-container-id-1 div.sk-parallel-item:only-child::after {width: 0;}#sk-container-id-1 div.sk-dashed-wrapped {border: 1px dashed gray;margin: 0 0.4em 0.5em 0.4em;box-sizing: border-box;padding-bottom: 0.4em;background-color: white;}#sk-container-id-1 div.sk-label label {font-family: monospace;font-weight: bold;display: inline-block;line-height: 1.2em;}#sk-container-id-1 div.sk-label-container {text-align: center;}#sk-container-id-1 div.sk-container {/* jupyter's `normalize.less` sets `[hidden] { display: none; }` but bootstrap.min.css set `[hidden] { display: none !important; }` so we also need the `!important` here to be able to override the default hidden behavior on the sphinx rendered scikit-learn.org. See: https://github.com/scikit-learn/scikit-learn/issues/21755 */display: inline-block !important;position: relative;}#sk-container-id-1 div.sk-text-repr-fallback {display: none;}</style><div id=\"sk-container-id-1\" class=\"sk-top-container\"><div class=\"sk-text-repr-fallback\"><pre>LinearRegression()</pre><b>In a Jupyter environment, please rerun this cell to show the HTML representation or trust the notebook. <br />On GitHub, the HTML representation is unable to render, please try loading this page with nbviewer.org.</b></div><div class=\"sk-container\" hidden><div class=\"sk-item\"><div class=\"sk-estimator sk-toggleable\"><input class=\"sk-toggleable__control sk-hidden--visually\" id=\"sk-estimator-id-1\" type=\"checkbox\" checked><label for=\"sk-estimator-id-1\" class=\"sk-toggleable__label sk-toggleable__label-arrow\">LinearRegression</label><div class=\"sk-toggleable__content\"><pre>LinearRegression()</pre></div></div></div></div></div>"
            ],
            "text/plain": [
              "LinearRegression()"
            ]
          },
          "execution_count": 14,
          "metadata": {},
          "output_type": "execute_result"
        }
      ],
      "source": [
        "# Fitting the MLR model to the training set\n",
        "from sklearn.linear_model import LinearRegression\n",
        "regressor = LinearRegression()\n",
        "regressor.fit(X_train,y_train)"
      ]
    },
    {
      "cell_type": "markdown",
      "id": "ac47541f",
      "metadata": {
        "id": "ac47541f"
      },
      "source": [
        "## 3. Predicting the Test Result"
      ]
    },
    {
      "cell_type": "code",
      "execution_count": null,
      "id": "e34a1d1b",
      "metadata": {
        "id": "e34a1d1b"
      },
      "outputs": [],
      "source": [
        "# Predicting the Test set result\n",
        "y_pred = regressor.predict(X_test)"
      ]
    },
    {
      "cell_type": "code",
      "execution_count": null,
      "id": "7e074882",
      "metadata": {
        "id": "7e074882",
        "outputId": "ced05dda-84f2-4006-c7a6-ddd97c7b3855"
      },
      "outputs": [
        {
          "name": "stdout",
          "output_type": "stream",
          "text": [
            "      Actual  Predicted\n",
            "0  134307.35  126362.88\n",
            "1   81005.76   84608.45\n",
            "2   99937.59   99677.49\n",
            "3   64926.08   46357.46\n",
            "4  125370.37  128750.48\n",
            "5   35673.41   50912.42\n",
            "6  105733.54  109741.35\n",
            "7  107404.34  100643.24\n",
            "8   97427.84   97599.28\n",
            "9  122776.86  113097.43\n"
          ]
        }
      ],
      "source": [
        "# To compare the actual output values for X_test with the predicted value\n",
        "df = pd.DataFrame({'Actual': y_test, 'Predicted': y_pred})\n",
        "df = df.round(2)\n",
        "print(df.to_string())"
      ]
    },
    {
      "cell_type": "code",
      "execution_count": null,
      "id": "a0d30cb8",
      "metadata": {
        "id": "a0d30cb8",
        "outputId": "efd59ebf-8d01-4838-f599-4848d6128f0e"
      },
      "outputs": [
        {
          "data": {
            "image/png": "[encoded data removed]",
            "text/plain": [
              "<Figure size 640x480 with 1 Axes>"
            ]
          },
          "metadata": {},
          "output_type": "display_data"
        }
      ],
      "source": [
        "# Plot the actual data and predicted data\n",
        "plt.plot(y_test, label='Actual')\n",
        "plt.plot(y_pred, label='Predicted')\n",
        "plt.title('Actual vs Predicted Values')\n",
        "plt.xlabel('Data Points')\n",
        "plt.ylabel('Values')\n",
        "plt.legend()\n",
        "plt.show()"
      ]
    },
    {
      "cell_type": "code",
      "execution_count": null,
      "id": "72f16de1",
      "metadata": {
        "id": "72f16de1",
        "outputId": "a3ce62af-f32f-46da-e5fd-a29f770a5a2c"
      },
      "outputs": [
        {
          "name": "stdout",
          "output_type": "stream",
          "text": [
            "Mean\n",
            "----\n",
            "       R&D Spend  Administration  Marketing Spend     Profit\n",
            "count      50.00           50.00            50.00      50.00\n",
            "mean    73721.62       121344.64        211025.10  112012.64\n",
            "std     45902.26        28017.80        122290.31   40306.18\n",
            "min         0.00        51283.14             0.00   14681.40\n",
            "25%     39936.37       103730.88        129300.13   90138.90\n",
            "50%     73051.08       122699.80        212716.24  107978.19\n",
            "75%    101602.80       144842.18        299469.08  139765.98\n",
            "max    165349.20       182645.56        471784.10  192261.83\n"
          ]
        }
      ],
      "source": [
        "# Description of the dataset\n",
        "print(\"Mean\")\n",
        "print(\"----\")\n",
        "print(data_set.describe().round(2))"
      ]
    },
    {
      "cell_type": "markdown",
      "id": "08e22b59",
      "metadata": {
        "id": "08e22b59"
      },
      "source": [
        "## 4. Evaluate the Algorithm"
      ]
    },
    {
      "cell_type": "code",
      "execution_count": null,
      "id": "83676bc8",
      "metadata": {
        "id": "83676bc8",
        "outputId": "ac0f6266-68b6-4c7d-855b-02a287061230"
      },
      "outputs": [
        {
          "name": "stdout",
          "output_type": "stream",
          "text": [
            "Mean Absolute Error: 6961.48\n",
            "Mean Squared Error: 82010363.05\n",
            "Root Mean Squared Error: 9055.96\n"
          ]
        }
      ],
      "source": [
        "# Evaluating the Algorithm\n",
        "from sklearn import metrics\n",
        "mae = metrics.mean_absolute_error(y_test, y_pred)\n",
        "mse = metrics.mean_squared_error(y_test, y_pred)\n",
        "rmse= np.sqrt(metrics.mean_squared_error(y_test, y_pred))\n",
        "print('Mean Absolute Error:', round(mae, 2))\n",
        "print('Mean Squared Error:', round(mse, 2))\n",
        "print('Root Mean Squared Error:', round(rmse, 2))"
      ]
    },
    {
      "cell_type": "markdown",
      "id": "d08961c8",
      "metadata": {
        "id": "d08961c8"
      },
      "source": [
        "- You can see that the value of root mean squared error is 9055.96,\n",
        "which is less than 10% of the mean value\n",
        "of the expenses in all states. This means that our algorithm is very\n",
        "accurate and good predictions."
      ]
    },
    {
      "cell_type": "code",
      "execution_count": null,
      "id": "8f2bab59",
      "metadata": {
        "id": "8f2bab59",
        "outputId": "da383c7d-ac6d-42dd-8b6a-90aa1e970856"
      },
      "outputs": [
        {
          "name": "stdout",
          "output_type": "stream",
          "text": [
            "Accuracy socre is  89.87 %\n"
          ]
        }
      ],
      "source": [
        "# Predicting the accuracy score\n",
        "from sklearn.metrics import r2_score\n",
        "score=r2_score(y_test,y_pred)\n",
        "r_score = score*100\n",
        "print(\"Accuracy socre is \",r_score.round(2),\"%\")"
      ]
    }
  ],
  "metadata": {
    "kernelspec": {
      "display_name": "Python 3 (ipykernel)",
      "language": "python",
      "name": "python3"
    },
    "language_info": {
      "codemirror_mode": {
        "name": "ipython",
        "version": 3
      },
      "file_extension": ".py",
      "mimetype": "text/x-python",
      "name": "python",
      "nbconvert_exporter": "python",
      "pygments_lexer": "ipython3",
      "version": "3.10.9"
    },
    "colab": {
      "provenance": []
    }
  },
  "nbformat": 4,
  "nbformat_minor": 5
}